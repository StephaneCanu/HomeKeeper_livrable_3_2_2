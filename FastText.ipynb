{
 "cells": [
  {
   "cell_type": "markdown",
   "metadata": {},
   "source": [
    "# 3. FastText Model"
   ]
  },
  {
   "cell_type": "code",
   "execution_count": 1,
   "metadata": {},
   "outputs": [
    {
     "name": "stderr",
     "output_type": "stream",
     "text": [
      "Using TensorFlow backend.\n"
     ]
    }
   ],
   "source": [
    "import os\n",
    "import gensim\n",
    "\n",
    "from utils import *\n",
    "\n",
    "import warnings\n",
    "warnings.filterwarnings(action='ignore', category=UserWarning, module='gensim')"
   ]
  },
  {
   "cell_type": "markdown",
   "metadata": {},
   "source": [
    "## 3.1. Train FastText Model"
   ]
  },
  {
   "cell_type": "markdown",
   "metadata": {},
   "source": [
    "### Getting Data"
   ]
  },
  {
   "cell_type": "code",
   "execution_count": 2,
   "metadata": {},
   "outputs": [],
   "source": [
    "# I use a memory friendly iterator\n",
    "text_w2v = MySentences(dirname='./Data/')"
   ]
  },
  {
   "cell_type": "markdown",
   "metadata": {},
   "source": [
    "### CBOW Version"
   ]
  },
  {
   "cell_type": "code",
   "execution_count": 3,
   "metadata": {
    "scrolled": true
   },
   "outputs": [],
   "source": [
    "model_w2v = gensim.models.FastText(sentences=text_w2v, size=300, sg=0, hs=1, word_ngrams=1)\n",
    "if not os.path.exists('./WE_models'):\n",
    "    os.mkdir('./WE_models')\n",
    "model_w2v.save('WE_models/fast_cbow_300D')"
   ]
  },
  {
   "cell_type": "markdown",
   "metadata": {},
   "source": [
    "### Skip-Gram Version"
   ]
  },
  {
   "cell_type": "code",
   "execution_count": 4,
   "metadata": {},
   "outputs": [],
   "source": [
    "model_w2v = gensim.models.FastText(sentences=text_w2v, size=300, sg=1, hs=1, word_ngrams=1)\n",
    "if not os.path.exists('./WE_models'):\n",
    "    os.mkdir('./WE_models')\n",
    "model_w2v.save('WE_models/fast_sg_300D')"
   ]
  },
  {
   "cell_type": "markdown",
   "metadata": {},
   "source": [
    "## 3.2. Load FastText Model"
   ]
  },
  {
   "cell_type": "markdown",
   "metadata": {},
   "source": [
    "### - CBOW Version"
   ]
  },
  {
   "cell_type": "code",
   "execution_count": 5,
   "metadata": {},
   "outputs": [],
   "source": [
    "model_w2v = gensim.models.fasttext.FastText.load('WE_models/fast_cbow_300D')"
   ]
  },
  {
   "cell_type": "markdown",
   "metadata": {},
   "source": [
    "- #### Similar Words"
   ]
  },
  {
   "cell_type": "code",
   "execution_count": 6,
   "metadata": {},
   "outputs": [
    {
     "data": {
      "text/plain": [
       "[('difficiles', 0.7969925403594971),\n",
       " ('facile', 0.7811601161956787),\n",
       " ('difficulté', 0.7779099941253662),\n",
       " ('durable', 0.7758622169494629),\n",
       " ('subtile', 0.7254233956336975),\n",
       " ('dur', 0.7229893207550049),\n",
       " ('diffère', 0.7226002216339111),\n",
       " ('désagréable', 0.7177258729934692),\n",
       " ('futile', 0.7081396579742432),\n",
       " ('agréable', 0.7072796821594238)]"
      ]
     },
     "execution_count": 6,
     "metadata": {},
     "output_type": "execute_result"
    }
   ],
   "source": [
    "model_w2v.wv.most_similar('difficile')"
   ]
  },
  {
   "cell_type": "markdown",
   "metadata": {},
   "source": [
    "- #### Similar Words : Out of Vocabulary Words"
   ]
  },
  {
   "cell_type": "code",
   "execution_count": 7,
   "metadata": {},
   "outputs": [
    {
     "data": {
      "text/plain": [
       "[('difficile', 0.9158196449279785),\n",
       " ('difficiles', 0.8082425594329834),\n",
       " ('difficulté', 0.7418375015258789),\n",
       " ('difficultés', 0.7144359350204468),\n",
       " ('dur', 0.6656060218811035),\n",
       " ('durable', 0.6420509815216064),\n",
       " ('facile', 0.6084268093109131),\n",
       " ('désagréable', 0.6013373136520386),\n",
       " ('agréable', 0.599623441696167),\n",
       " ('dure', 0.5836637020111084)]"
      ]
     },
     "execution_count": 7,
     "metadata": {},
     "output_type": "execute_result"
    }
   ],
   "source": [
    "model_w2v.wv.most_similar('diffici')"
   ]
  },
  {
   "cell_type": "markdown",
   "metadata": {},
   "source": [
    "### - Skip-Gram Version"
   ]
  },
  {
   "cell_type": "code",
   "execution_count": 8,
   "metadata": {
    "scrolled": true
   },
   "outputs": [],
   "source": [
    "model_w2v = gensim.models.fasttext.FastText.load('WE_models/fast_sg_300D')"
   ]
  },
  {
   "cell_type": "markdown",
   "metadata": {},
   "source": [
    "- #### Similar Words"
   ]
  },
  {
   "cell_type": "code",
   "execution_count": 9,
   "metadata": {},
   "outputs": [
    {
     "data": {
      "text/plain": [
       "[('difficiles', 0.7599088549613953),\n",
       " ('diffère', 0.6243560314178467),\n",
       " ('difficulté', 0.5957503914833069),\n",
       " ('facile', 0.5910661220550537),\n",
       " ('dur', 0.5741488337516785),\n",
       " ('éprouvante', 0.5307071208953857),\n",
       " ('difficultés', 0.5297869443893433),\n",
       " ('pénible', 0.5263471007347107),\n",
       " ('stressante', 0.5063722133636475),\n",
       " ('éprouvant', 0.4931843876838684)]"
      ]
     },
     "execution_count": 9,
     "metadata": {},
     "output_type": "execute_result"
    }
   ],
   "source": [
    "model_w2v.wv.most_similar('difficile')"
   ]
  },
  {
   "cell_type": "markdown",
   "metadata": {},
   "source": [
    "- #### Similar Words : Out of Vocabulary Words"
   ]
  },
  {
   "cell_type": "code",
   "execution_count": 10,
   "metadata": {},
   "outputs": [
    {
     "data": {
      "text/plain": [
       "[('difficile', 0.915155291557312),\n",
       " ('difficiles', 0.8299088478088379),\n",
       " ('difficulté', 0.7276912927627563),\n",
       " ('difficultés', 0.6891382932662964),\n",
       " ('diffère', 0.6578717231750488),\n",
       " ('diffusé', 0.47820448875427246),\n",
       " ('diffusion', 0.4758201241493225),\n",
       " ('dur', 0.4700377583503723),\n",
       " ('douloureux', 0.4577464163303375),\n",
       " ('pénible', 0.456268310546875)]"
      ]
     },
     "execution_count": 10,
     "metadata": {},
     "output_type": "execute_result"
    }
   ],
   "source": [
    "model_w2v.wv.most_similar('diffici')"
   ]
  },
  {
   "cell_type": "code",
   "execution_count": null,
   "metadata": {},
   "outputs": [],
   "source": []
  }
 ],
 "metadata": {
  "kernelspec": {
   "display_name": "Python 3",
   "language": "python",
   "name": "python3"
  },
  "language_info": {
   "codemirror_mode": {
    "name": "ipython",
    "version": 3
   },
   "file_extension": ".py",
   "mimetype": "text/x-python",
   "name": "python",
   "nbconvert_exporter": "python",
   "pygments_lexer": "ipython3",
   "version": "3.6.5"
  }
 },
 "nbformat": 4,
 "nbformat_minor": 2
}
